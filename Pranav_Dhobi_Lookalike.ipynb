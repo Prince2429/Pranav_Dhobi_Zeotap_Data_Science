{
 "cells": [
  {
   "cell_type": "code",
   "execution_count": 13,
   "metadata": {},
   "outputs": [],
   "source": [
    "import pandas as pd\n",
    "from sklearn.metrics.pairwise import cosine_similarity\n",
    "from sklearn.preprocessing import StandardScaler"
   ]
  },
  {
   "cell_type": "code",
   "execution_count": 14,
   "metadata": {},
   "outputs": [],
   "source": [
    "customers = pd.read_csv(\"Customers.csv\")\n",
    "products = pd.read_csv(\"Products.csv\")\n",
    "transactions = pd.read_csv(\"Transactions.csv\")"
   ]
  },
  {
   "cell_type": "code",
   "execution_count": 15,
   "metadata": {},
   "outputs": [],
   "source": [
    "def build_lookalike_model():\n",
    "    # Merge datasets\n",
    "    merged_data = transactions.merge(customers, on='CustomerID').merge(products, on='ProductID')\n",
    "\n",
    "    # Create customer-product interaction matrix\n",
    "    customer_product_matrix = merged_data.pivot_table(\n",
    "        index='CustomerID', columns='ProductID', values='Quantity', fill_value=0\n",
    "    )\n",
    "\n",
    "    # Standardize the data\n",
    "    scaler = StandardScaler()\n",
    "    standardized_matrix = scaler.fit_transform(customer_product_matrix)\n",
    "\n",
    "    # Calculate cosine similarity\n",
    "    similarity_matrix = cosine_similarity(standardized_matrix)\n",
    "    similarity_df = pd.DataFrame(similarity_matrix, index=customer_product_matrix.index, columns=customer_product_matrix.index)\n",
    "\n",
    "    # Extract top 3 similar customers for the first 20 customers\n",
    "    lookalikes = {}\n",
    "    for customer_id in similarity_df.index[:20]:\n",
    "        similar_customers = similarity_df[customer_id].sort_values(ascending=False)[1:4]\n",
    "        lookalikes[customer_id] = list(zip(similar_customers.index, similar_customers.values))\n",
    "\n",
    "    # Save lookalike results to CSV\n",
    "    lookalike_df = pd.DataFrame({\n",
    "        \"CustomerID\": lookalikes.keys(),\n",
    "        \"SimilarCustomers\": [str(v) for v in lookalikes.values()]\n",
    "    })\n",
    "    lookalike_df.to_csv(\"Pranav_Dhobi_Lookalike.csv\", index=False)\n",
    "    print(\"Lookalike model CSV has been saved as 'Pranav_Dhobi_Lookalike.csv'.\")"
   ]
  },
  {
   "cell_type": "code",
   "execution_count": 16,
   "metadata": {},
   "outputs": [
    {
     "name": "stdout",
     "output_type": "stream",
     "text": [
      "Lookalike model CSV has been saved as 'Pranav_Dhobi_Lookalike.csv'.\n"
     ]
    }
   ],
   "source": [
    "if __name__ == \"__main__\":\n",
    "    build_lookalike_model()"
   ]
  }
 ],
 "metadata": {
  "kernelspec": {
   "display_name": "base",
   "language": "python",
   "name": "python3"
  },
  "language_info": {
   "codemirror_mode": {
    "name": "ipython",
    "version": 3
   },
   "file_extension": ".py",
   "mimetype": "text/x-python",
   "name": "python",
   "nbconvert_exporter": "python",
   "pygments_lexer": "ipython3",
   "version": "3.11.3"
  }
 },
 "nbformat": 4,
 "nbformat_minor": 2
}
