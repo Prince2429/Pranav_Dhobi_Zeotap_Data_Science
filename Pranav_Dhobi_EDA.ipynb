{
 "cells": [
  {
   "cell_type": "code",
   "execution_count": 1,
   "metadata": {},
   "outputs": [],
   "source": [
    "import pandas as pd\n",
    "import matplotlib.pyplot as plt\n",
    "import seaborn as sns"
   ]
  },
  {
   "cell_type": "code",
   "execution_count": 2,
   "metadata": {},
   "outputs": [],
   "source": [
    "customers = pd.read_csv(\"Customers.csv\")\n",
    "products = pd.read_csv(\"Products.csv\")\n",
    "transactions = pd.read_csv(\"Transactions.csv\")"
   ]
  },
  {
   "cell_type": "code",
   "execution_count": 3,
   "metadata": {},
   "outputs": [],
   "source": [
    "# Task 1: Basic Dataset Information\n",
    "def dataset_overview():\n",
    "    print(\"Customers Dataset:\\n\", customers.head(), \"\\n\")\n",
    "    print(\"Products Dataset:\\n\", products.head(), \"\\n\")\n",
    "    print(\"Transactions Dataset:\\n\", transactions.head(), \"\\n\")\n",
    "    print(\"Dataset Summary\")\n",
    "    print(\"Customers Info:\")\n",
    "    print(customers.info())\n",
    "    print(\"Products Info:\")\n",
    "    print(products.info())\n",
    "    print(\"Transactions Info:\")\n",
    "    print(transactions.info())"
   ]
  },
  {
   "cell_type": "code",
   "execution_count": 5,
   "metadata": {},
   "outputs": [],
   "source": [
    "def visualize_data():\n",
    "    # Visualizing customer regions\n",
    "    plt.figure(figsize=(8, 5))\n",
    "    sns.countplot(data=customers, x='Region', palette='viridis')\n",
    "    plt.title('Customer Distribution by Region')\n",
    "    plt.xlabel('Region')\n",
    "    plt.ylabel('Count')\n",
    "    plt.savefig('customer_distribution_by_region.png')\n",
    "    plt.close()\n",
    "\n",
    "    # Product Categories\n",
    "    plt.figure(figsize=(8, 5))\n",
    "    sns.countplot(data=products, y='Category', palette='cool')\n",
    "    plt.title('Distribution of Product Categories')\n",
    "    plt.xlabel('Count')\n",
    "    plt.ylabel('Category')\n",
    "    plt.savefig('product_categories_distribution.png')\n",
    "    plt.close()\n",
    "\n",
    "    # Transaction Trends\n",
    "    transactions['TransactionDate'] = pd.to_datetime(transactions['TransactionDate'])\n",
    "    transactions['Month'] = transactions['TransactionDate'].dt.to_period('M')\n",
    "\n",
    "    monthly_transactions = transactions.groupby('Month').sum()['TotalValue']\n",
    "    plt.figure(figsize=(10, 6))\n",
    "    monthly_transactions.plot(kind='line', marker='o')\n",
    "    plt.title('Monthly Transaction Value')\n",
    "    plt.xlabel('Month')\n",
    "    plt.ylabel('Total Value')\n",
    "    plt.grid()\n",
    "    plt.savefig('monthly_transaction_value.png')\n",
    "    plt.close()"
   ]
  },
  {
   "cell_type": "code",
   "execution_count": 6,
   "metadata": {},
   "outputs": [],
   "source": [
    "def derive_insights():\n",
    "    insights = []\n",
    "\n",
    "    # Insight 1: Region-wise customer distribution\n",
    "    region_dist = customers['Region'].value_counts()\n",
    "    insights.append(f\"Top region by customer count: {region_dist.idxmax()} ({region_dist.max()} customers)\")\n",
    "\n",
    "    # Insight 2: Best-selling product categories\n",
    "    category_sales = transactions.merge(products, on='ProductID').groupby('Category').sum()['Quantity']\n",
    "    insights.append(f\"Most popular product category: {category_sales.idxmax()} ({category_sales.max()} units sold)\")\n",
    "\n",
    "    # Insight 3: High-value customers\n",
    "    customer_spending = transactions.groupby('CustomerID').sum()['TotalValue']\n",
    "    top_customer = customer_spending.idxmax()\n",
    "    insights.append(f\"Top customer: {top_customer} with total spending of ${customer_spending.max():.2f}\")\n",
    "\n",
    "    # Insight 4: Seasonal trends\n",
    "    monthly_sales = transactions.groupby(transactions['TransactionDate'].dt.month).sum()['TotalValue']\n",
    "    peak_month = monthly_sales.idxmax()\n",
    "    insights.append(f\"Peak sales month: Month {peak_month} with total sales of ${monthly_sales.max():.2f}\")\n",
    "\n",
    "    # Insight 5: Average transaction value\n",
    "    avg_transaction_value = transactions['TotalValue'].mean()\n",
    "    insights.append(f\"Average transaction value: ${avg_transaction_value:.2f}\")\n",
    "\n",
    "    print(\"Derived Insights:\\n\")\n",
    "    for i, insight in enumerate(insights, 1):\n",
    "        print(f\"Insight {i}: {insight}\")"
   ]
  },
  {
   "cell_type": "code",
   "execution_count": 7,
   "metadata": {},
   "outputs": [
    {
     "name": "stdout",
     "output_type": "stream",
     "text": [
      "Customers Dataset:\n",
      "   CustomerID        CustomerName         Region  SignupDate\n",
      "0      C0001    Lawrence Carroll  South America  2022-07-10\n",
      "1      C0002      Elizabeth Lutz           Asia  2022-02-13\n",
      "2      C0003      Michael Rivera  South America  2024-03-07\n",
      "3      C0004  Kathleen Rodriguez  South America  2022-10-09\n",
      "4      C0005         Laura Weber           Asia  2022-08-15 \n",
      "\n",
      "Products Dataset:\n",
      "   ProductID              ProductName     Category   Price\n",
      "0      P001     ActiveWear Biography        Books  169.30\n",
      "1      P002    ActiveWear Smartwatch  Electronics  346.30\n",
      "2      P003  ComfortLiving Biography        Books   44.12\n",
      "3      P004            BookWorld Rug   Home Decor   95.69\n",
      "4      P005          TechPro T-Shirt     Clothing  429.31 \n",
      "\n",
      "Transactions Dataset:\n",
      "   TransactionID CustomerID ProductID      TransactionDate  Quantity  \\\n",
      "0        T00001      C0199      P067  2024-08-25 12:38:23         1   \n",
      "1        T00112      C0146      P067  2024-05-27 22:23:54         1   \n",
      "2        T00166      C0127      P067  2024-04-25 07:38:55         1   \n",
      "3        T00272      C0087      P067  2024-03-26 22:55:37         2   \n",
      "4        T00363      C0070      P067  2024-03-21 15:10:10         3   \n",
      "\n",
      "   TotalValue   Price  \n",
      "0      300.68  300.68  \n",
      "1      300.68  300.68  \n",
      "2      300.68  300.68  \n",
      "3      601.36  300.68  \n",
      "4      902.04  300.68   \n",
      "\n",
      "Dataset Summary\n",
      "Customers Info:\n",
      "<class 'pandas.core.frame.DataFrame'>\n",
      "RangeIndex: 200 entries, 0 to 199\n",
      "Data columns (total 4 columns):\n",
      " #   Column        Non-Null Count  Dtype \n",
      "---  ------        --------------  ----- \n",
      " 0   CustomerID    200 non-null    object\n",
      " 1   CustomerName  200 non-null    object\n",
      " 2   Region        200 non-null    object\n",
      " 3   SignupDate    200 non-null    object\n",
      "dtypes: object(4)\n",
      "memory usage: 6.4+ KB\n",
      "None\n",
      "Products Info:\n",
      "<class 'pandas.core.frame.DataFrame'>\n",
      "RangeIndex: 100 entries, 0 to 99\n",
      "Data columns (total 4 columns):\n",
      " #   Column       Non-Null Count  Dtype  \n",
      "---  ------       --------------  -----  \n",
      " 0   ProductID    100 non-null    object \n",
      " 1   ProductName  100 non-null    object \n",
      " 2   Category     100 non-null    object \n",
      " 3   Price        100 non-null    float64\n",
      "dtypes: float64(1), object(3)\n",
      "memory usage: 3.3+ KB\n",
      "None\n",
      "Transactions Info:\n",
      "<class 'pandas.core.frame.DataFrame'>\n",
      "RangeIndex: 1000 entries, 0 to 999\n",
      "Data columns (total 7 columns):\n",
      " #   Column           Non-Null Count  Dtype  \n",
      "---  ------           --------------  -----  \n",
      " 0   TransactionID    1000 non-null   object \n",
      " 1   CustomerID       1000 non-null   object \n",
      " 2   ProductID        1000 non-null   object \n",
      " 3   TransactionDate  1000 non-null   object \n",
      " 4   Quantity         1000 non-null   int64  \n",
      " 5   TotalValue       1000 non-null   float64\n",
      " 6   Price            1000 non-null   float64\n",
      "dtypes: float64(2), int64(1), object(4)\n",
      "memory usage: 54.8+ KB\n",
      "None\n"
     ]
    },
    {
     "name": "stderr",
     "output_type": "stream",
     "text": [
      "C:\\Users\\hp\\AppData\\Local\\Temp\\ipykernel_3984\\3106103260.py:24: FutureWarning: The default value of numeric_only in DataFrameGroupBy.sum is deprecated. In a future version, numeric_only will default to False. Either specify numeric_only or select only columns which should be valid for the function.\n",
      "  monthly_transactions = transactions.groupby('Month').sum()['TotalValue']\n"
     ]
    },
    {
     "name": "stdout",
     "output_type": "stream",
     "text": [
      "Derived Insights:\n",
      "\n",
      "Insight 1: Top region by customer count: South America (59 customers)\n",
      "Insight 2: Most popular product category: Books (681 units sold)\n",
      "Insight 3: Top customer: C0141 with total spending of $10673.87\n",
      "Insight 4: Peak sales month: Month 7 with total sales of $71366.39\n",
      "Insight 5: Average transaction value: $690.00\n"
     ]
    },
    {
     "name": "stderr",
     "output_type": "stream",
     "text": [
      "C:\\Users\\hp\\AppData\\Local\\Temp\\ipykernel_3984\\3484008721.py:9: FutureWarning: The default value of numeric_only in DataFrameGroupBy.sum is deprecated. In a future version, numeric_only will default to False. Either specify numeric_only or select only columns which should be valid for the function.\n",
      "  category_sales = transactions.merge(products, on='ProductID').groupby('Category').sum()['Quantity']\n",
      "C:\\Users\\hp\\AppData\\Local\\Temp\\ipykernel_3984\\3484008721.py:13: FutureWarning: The default value of numeric_only in DataFrameGroupBy.sum is deprecated. In a future version, numeric_only will default to False. Either specify numeric_only or select only columns which should be valid for the function.\n",
      "  customer_spending = transactions.groupby('CustomerID').sum()['TotalValue']\n",
      "C:\\Users\\hp\\AppData\\Local\\Temp\\ipykernel_3984\\3484008721.py:18: FutureWarning: The default value of numeric_only in DataFrameGroupBy.sum is deprecated. In a future version, numeric_only will default to False. Either specify numeric_only or select only columns which should be valid for the function.\n",
      "  monthly_sales = transactions.groupby(transactions['TransactionDate'].dt.month).sum()['TotalValue']\n"
     ]
    }
   ],
   "source": [
    "if __name__ == \"__main__\":\n",
    "    dataset_overview()\n",
    "    visualize_data()\n",
    "    derive_insights()"
   ]
  }
 ],
 "metadata": {
  "kernelspec": {
   "display_name": "base",
   "language": "python",
   "name": "python3"
  },
  "language_info": {
   "codemirror_mode": {
    "name": "ipython",
    "version": 3
   },
   "file_extension": ".py",
   "mimetype": "text/x-python",
   "name": "python",
   "nbconvert_exporter": "python",
   "pygments_lexer": "ipython3",
   "version": "3.11.3"
  }
 },
 "nbformat": 4,
 "nbformat_minor": 2
}
